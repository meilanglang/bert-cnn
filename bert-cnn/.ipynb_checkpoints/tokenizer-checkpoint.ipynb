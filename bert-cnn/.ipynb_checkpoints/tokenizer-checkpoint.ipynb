{
 "cells": [
  {
   "cell_type": "code",
   "execution_count": 6,
   "metadata": {},
   "outputs": [
    {
     "name": "stdout",
     "output_type": "stream",
     "text": [
      "aug_50/IMR90\n"
     ]
    }
   ],
   "source": [
    "import numpy as np\n",
    "from Bio import SeqIO\n",
    "import tables\n",
    "#from bert_serving.client import BertClient\n",
    "from ProduceKmerSequence import SeqGenerator,KmerSeqIterable,SeqMapper,SeqFragmenter,SlidingKmerFragmenter\n",
    "import tokenization \n",
    "celline = \"IMR90\"\n",
    "file_pre  = 'aug_50/'+celline\n",
    "rand_seed=7\n",
    "print(file_pre)\n",
    "vocab_file='vocab.txt'\n",
    "tokenizer = tokenization.FullTokenizer(vocab_file)"
   ]
  },
  {
   "cell_type": "code",
   "execution_count": 7,
   "metadata": {},
   "outputs": [],
   "source": [
    "vocab_file='vocab.txt'\n",
    "tokenizer = tokenization.FullTokenizer(vocab_file)\n",
    "#output_tokens=tokenizer.tokenize('atgttt tgtt gttta' )\n",
    "#input_ids=tokenizer.convert_tokens_to_ids(output_tokens)\n",
    "#print(input_ids)"
   ]
  },
  {
   "cell_type": "code",
   "execution_count": 8,
   "metadata": {},
   "outputs": [],
   "source": [
    "def GetEnhancerIndex(efile):\n",
    "    seq_index_e=[]\n",
    "    enhancer_sequences = SeqIO.parse(open(efile), 'fasta')\n",
    "    rng=np.random.RandomState(rand_seed)\n",
    "    kmer_fragmenter = SlidingKmerFragmenter(3, 8)\n",
    "    for enhancer in enhancer_sequences:\n",
    "        name, sequence = enhancer.id, str(enhancer.seq)\n",
    "        #print(sequence)\n",
    "        kmer_seq_iterable = KmerSeqIterable(\n",
    "        rand_seed,\n",
    "        SeqGenerator(sequence),\n",
    "        SeqMapper(),\n",
    "        SeqFragmenter(),\n",
    "        kmer_fragmenter\n",
    "    )\n",
    "        kmer_seq_list=next(kmer_seq_iterable.__iter__())\n",
    "        #print(len(kmer_seq_list))\n",
    "        kmer_seq_str=' '.join(kmer_seq_list)\n",
    "        output_tokens=tokenizer.tokenize(kmer_seq_str)\n",
    "        input_ids=tokenizer.convert_tokens_to_ids(output_tokens)\n",
    "        if len(input_ids)==2993:\n",
    "            seq_index_e.append(input_ids)\n",
    "        else:\n",
    "            print(len(input_ids),name)\n",
    "    X_e = np.array(seq_index_e)\n",
    "    print(X_e.shape)\n",
    "    return X_e\n",
    "        \n",
    "        \n",
    "def GetPromoterIndex(pfile):\n",
    "    seq_index_p=[]\n",
    "    promoter_sequences = SeqIO.parse(open(pfile), 'fasta')\n",
    "    rng=np.random.RandomState(rand_seed)\n",
    "    kmer_fragmenter = SlidingKmerFragmenter(3, 8)\n",
    "    for promoter in promoter_sequences:\n",
    "        name, sequence = promoter.id, promoter.seq\n",
    "        kmer_seq_iterable = KmerSeqIterable(\n",
    "        rand_seed,\n",
    "        SeqGenerator(sequence),\n",
    "        SeqMapper(),\n",
    "        SeqFragmenter(),\n",
    "        kmer_fragmenter\n",
    "    )\n",
    "        kmer_seq_list=next(kmer_seq_iterable.__iter__())\n",
    "        kmer_seq_str=' '.join(kmer_seq_list)\n",
    "        output_tokens=tokenizer.tokenize(kmer_seq_str)\n",
    "        input_ids=tokenizer.convert_tokens_to_ids(output_tokens)\n",
    "        #promoter_index=str(input_ids).replace(r\",\",\"\").replace(r\"[\",\"\").replace(r\"]\",\"\")\n",
    "        if len(input_ids)==1993:\n",
    "            seq_index_p.append(input_ids)\n",
    "        else:\n",
    "            print(len(input_ids),name)\n",
    "                \n",
    "    #print(seq_index_p)\n",
    "    X_p = np.array(seq_index_p)\n",
    "    print(X_p.shape)\n",
    "    \n",
    "    return X_p\n"
   ]
  },
  {
   "cell_type": "code",
   "execution_count": 5,
   "metadata": {},
   "outputs": [],
   "source": [
    "#X_e=GetEnhancerIndex(efile = file_pre+'_enhancer.fasta')\n",
    "#X_p=GetPromoterIndex(pfile = file_pre+'_promoter.fasta')"
   ]
  },
  {
   "cell_type": "code",
   "execution_count": 6,
   "metadata": {},
   "outputs": [],
   "source": [
    "def GetTrainToken(labelfile):\n",
    "    num_pos = 0\n",
    "    num_neg = 0    \n",
    "    with open(labelfile) as f:\n",
    "        for line in f:\n",
    "            if line.rstrip() == '1':\n",
    "                num_pos = num_pos+1\n",
    "            else:\n",
    "                num_neg = num_neg+1\n",
    "    label = np.concatenate([np.ones([num_pos,1]), np.zeros([num_neg,1])])\n",
    "    X_e=GetEnhancerIndex(efile = file_pre+'_enhancer.fasta')\n",
    "    X_p=GetPromoterIndex(pfile = file_pre+'_promoter.fasta')\n",
    "    return X_e[0:num_pos],X_e[num_pos:], X_p[0:num_pos], X_p[num_pos:],label\n",
    "    #yield X_e[0:num_pos],X_e[num_pos:], X_p[0:num_pos], X_p[num_pos:],label\n",
    "\n"
   ]
  },
  {
   "cell_type": "code",
   "execution_count": 7,
   "metadata": {},
   "outputs": [
    {
     "name": "stdout",
     "output_type": "stream",
     "text": [
      "(45080, 2993)\n",
      "(45080, 1993)\n"
     ]
    }
   ],
   "source": [
    "seq_ep, seq_en,seq_pp, seq_pn,label=GetTrainToken(labelfile = file_pre+'_label.txt')\n",
    "np.savez(celline+'_train.npz',enhancer_pos=seq_ep,enhancer_neg=seq_en,promoter_pos=seq_pp,promoter_neg=seq_pn,label=label)"
   ]
  },
  {
   "cell_type": "code",
   "execution_count": 12,
   "metadata": {},
   "outputs": [],
   "source": [
    "def GetTestToken(labelfile):\n",
    "    num_pos = 0\n",
    "    num_neg = 0    \n",
    "    with open(labelfile) as f:\n",
    "        for line in f:\n",
    "            if line.rstrip() == '1':\n",
    "                num_pos = num_pos+1\n",
    "            else:\n",
    "                num_neg = num_neg+1\n",
    "    label = np.concatenate([np.ones([num_pos,1]), np.zeros([num_neg,1])])\n",
    "    X_e=GetEnhancerIndex(efile = file_pre+'_enhancer_test.fasta')\n",
    "    X_p=GetPromoterIndex(pfile = file_pre+'_promoter_test.fasta')\n",
    "    return X_e[0:num_pos],X_e[num_pos:], X_p[0:num_pos], X_p[num_pos:],label\n",
    "    #yield X_e[0:num_pos],X_e[num_pos:], X_p[0:num_pos], X_p[num_pos:],label\n"
   ]
  },
  {
   "cell_type": "code",
   "execution_count": 13,
   "metadata": {},
   "outputs": [
    {
     "name": "stdout",
     "output_type": "stream",
     "text": [
      "(2625, 2993)\n",
      "(2625, 1993)\n"
     ]
    }
   ],
   "source": [
    "seq_ep, seq_en,seq_pp, seq_pn,label=GetTestToken(labelfile = file_pre+'_label_test.txt')\n",
    "np.savez(celline+'_test.npz',enhancer_pos=seq_ep,enhancer_neg=seq_en,promoter_pos=seq_pp,promoter_neg=seq_pn,label=label)"
   ]
  },
  {
   "cell_type": "code",
   "execution_count": null,
   "metadata": {},
   "outputs": [],
   "source": []
  }
 ],
 "metadata": {
  "kernelspec": {
   "display_name": "Python 3",
   "language": "python",
   "name": "python3"
  },
  "language_info": {
   "codemirror_mode": {
    "name": "ipython",
    "version": 3
   },
   "file_extension": ".py",
   "mimetype": "text/x-python",
   "name": "python",
   "nbconvert_exporter": "python",
   "pygments_lexer": "ipython3",
   "version": "3.6.9"
  }
 },
 "nbformat": 4,
 "nbformat_minor": 4
}
