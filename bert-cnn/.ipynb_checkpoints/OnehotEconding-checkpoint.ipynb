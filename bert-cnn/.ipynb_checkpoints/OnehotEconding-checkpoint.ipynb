{
 "cells": [
  {
   "cell_type": "code",
   "execution_count": 1,
   "metadata": {},
   "outputs": [
    {
     "name": "stderr",
     "output_type": "stream",
     "text": [
      "/usr/lib/python3/dist-packages/requests/__init__.py:80: RequestsDependencyWarning: urllib3 (1.25.10) or chardet (3.0.4) doesn't match a supported version!\n",
      "  RequestsDependencyWarning)\n"
     ]
    },
    {
     "name": "stdout",
     "output_type": "stream",
     "text": [
      "WARNING:tensorflow:From /usr/local/lib/python3.6/dist-packages/tensorflow_core/python/compat/v2_compat.py:68: disable_resource_variables (from tensorflow.python.ops.variable_scope) is deprecated and will be removed in a future version.\n",
      "Instructions for updating:\n",
      "non-resource variables are not supported in the long term\n"
     ]
    }
   ],
   "source": [
    "import numpy as np\n",
    "from Bio import SeqIO\n",
    "import tables\n",
    "#from bert_serving.client import BertClient\n",
    "from sklearn.preprocessing import LabelEncoder, OneHotEncoder\n",
    "import tokenization \n",
    "celline = \"IMR90\"\n",
    "file_pre  = 'aug_50/'+celline\n",
    "import pickle"
   ]
  },
  {
   "cell_type": "code",
   "execution_count": 2,
   "metadata": {},
   "outputs": [],
   "source": [
    "def one_hot_encode(sequences):\n",
    "    sequence_length = len(sequences[0])\n",
    "    integer_type = np.int32\n",
    "    integer_array = LabelEncoder().fit(np.array(('ACGT',)).view(integer_type)).transform(\n",
    "        sequences.view(integer_type)).reshape(len(sequences), sequence_length)\n",
    "    \n",
    "    \n",
    "    one_hot_encoding = OneHotEncoder(handle_unknown='ignore',\n",
    "        sparse=False,dtype=integer_type).fit_transform(integer_array)\n",
    "    print(one_hot_encoding.shape)\n",
    "    return one_hot_encoding.reshape(\n",
    "        len(sequences),sequence_length, 4)\n",
    "\n",
    "\n",
    "def input_sequences(efile, pfile, labelfile):\n",
    "                        seq_e = []\n",
    "                        seq_p = []\n",
    "                        enhancer_sequences = SeqIO.parse(open(efile), 'fasta')\n",
    "                        promoter_sequences = SeqIO.parse(open(pfile), 'fasta')\n",
    "                        for enhancer in enhancer_sequences:\n",
    "                            name, sequence = enhancer.id, str(enhancer.seq)\n",
    "                            seq_e.append(sequence)\n",
    "    \n",
    "                        for promoter in promoter_sequences:\n",
    "                            name, sequence = promoter.id, str(promoter.seq)\n",
    "                            seq_p.append(sequence)\n",
    "    \n",
    "                        seq_e = np.array(seq_e)\n",
    "                        seq_p = np.array(seq_p)\n",
    "                        X_e = one_hot_encode(seq_e)\n",
    "                        X_p = one_hot_encode(seq_p)\n",
    "\n",
    "    #split to seq_e_p, seq_e_n, seq_p_p and seq_p_n based on the labels\n",
    "                        num_pos = 0\n",
    "                        num_neg = 0    \n",
    "                        with open(labelfile) as f:\n",
    "                            for line in f:\n",
    "                                if line.rstrip() == '1':\n",
    "                                    num_pos = num_pos+1\n",
    "                                else:\n",
    "                                    num_neg = num_neg+1\n",
    "                        label = np.concatenate([np.ones([num_pos,1]), np.zeros([num_neg,1])])\n",
    "                        return X_e[0:num_pos], X_e[num_pos:], X_p[0:num_pos], X_p[num_pos:],label\n",
    "\n",
    "\n"
   ]
  },
  {
   "cell_type": "code",
   "execution_count": 2,
   "metadata": {},
   "outputs": [
    {
     "ename": "NameError",
     "evalue": "name 'input_sequences' is not defined",
     "output_type": "error",
     "traceback": [
      "\u001b[0;31m---------------------------------------------------------------------------\u001b[0m",
      "\u001b[0;31mNameError\u001b[0m                                 Traceback (most recent call last)",
      "\u001b[0;32m<ipython-input-2-dfee93f7094a>\u001b[0m in \u001b[0;36m<module>\u001b[0;34m\u001b[0m\n\u001b[0;32m----> 1\u001b[0;31m seq_ep, seq_en, seq_pp, seq_pn,label= input_sequences(efile = file_pre+'_enhancer.fasta', \n\u001b[0m\u001b[1;32m      2\u001b[0m                                                  \u001b[0mpfile\u001b[0m \u001b[0;34m=\u001b[0m \u001b[0mfile_pre\u001b[0m\u001b[0;34m+\u001b[0m\u001b[0;34m'_promoter.fasta'\u001b[0m\u001b[0;34m,\u001b[0m\u001b[0;34m\u001b[0m\u001b[0;34m\u001b[0m\u001b[0m\n\u001b[1;32m      3\u001b[0m                                                  labelfile = file_pre+'_label.txt')\n\u001b[1;32m      4\u001b[0m \u001b[0mprint\u001b[0m\u001b[0;34m(\u001b[0m\u001b[0mseq_ep\u001b[0m\u001b[0;34m.\u001b[0m\u001b[0mshape\u001b[0m\u001b[0;34m,\u001b[0m\u001b[0mseq_pp\u001b[0m\u001b[0;34m.\u001b[0m\u001b[0mshape\u001b[0m\u001b[0;34m)\u001b[0m\u001b[0;34m\u001b[0m\u001b[0;34m\u001b[0m\u001b[0m\n\u001b[1;32m      5\u001b[0m \u001b[0mnp\u001b[0m\u001b[0;34m.\u001b[0m\u001b[0msavez\u001b[0m\u001b[0;34m(\u001b[0m\u001b[0mcelline\u001b[0m\u001b[0;34m+\u001b[0m\u001b[0;34m'one_hot_train.npz'\u001b[0m\u001b[0;34m,\u001b[0m\u001b[0menhancer_pos\u001b[0m\u001b[0;34m=\u001b[0m\u001b[0mseq_ep\u001b[0m\u001b[0;34m,\u001b[0m\u001b[0menhancer_neg\u001b[0m\u001b[0;34m=\u001b[0m\u001b[0mseq_en\u001b[0m\u001b[0;34m,\u001b[0m\u001b[0mpromoter_pos\u001b[0m\u001b[0;34m=\u001b[0m\u001b[0mseq_pp\u001b[0m\u001b[0;34m,\u001b[0m\u001b[0mpromoter_neg\u001b[0m\u001b[0;34m=\u001b[0m\u001b[0mseq_pn\u001b[0m\u001b[0;34m,\u001b[0m\u001b[0mlabel\u001b[0m\u001b[0;34m=\u001b[0m\u001b[0mlabel\u001b[0m\u001b[0;34m)\u001b[0m\u001b[0;34m\u001b[0m\u001b[0;34m\u001b[0m\u001b[0m\n",
      "\u001b[0;31mNameError\u001b[0m: name 'input_sequences' is not defined"
     ]
    }
   ],
   "source": [
    "seq_ep, seq_en, seq_pp, seq_pn,label= input_sequences(efile = file_pre+'_enhancer.fasta', \n",
    "                                                 pfile = file_pre+'_promoter.fasta', \n",
    "                                                 labelfile = file_pre+'_label.txt')\n",
    "print(seq_ep.shape,seq_pp.shape)\n",
    "np.savez(celline+'one_hot_train.npz',enhancer_pos=seq_ep,enhancer_neg=seq_en,promoter_pos=seq_pp,promoter_neg=seq_pn,label=label)\n",
    "seq_ep_t, seq_en_t, seq_pp_t, seq_pn_t,label= input_sequences(efile =file_pre+'_enhancer_test.fasta', \n",
    "                                                         pfile = file_pre+'_promoter_test.fasta', \n",
    "                                                         labelfile = file_pre+'_label_test.txt')\n",
    "np.savez(celline+'one_hot_test.npz',enhancer_pos=seq_ep,enhancer_neg=seq_en,promoter_pos=seq_pp,promoter_neg=seq_pn,label=label)"
   ]
  },
  {
   "cell_type": "code",
   "execution_count": null,
   "metadata": {},
   "outputs": [],
   "source": []
  },
  {
   "cell_type": "code",
   "execution_count": 247,
   "metadata": {},
   "outputs": [
    {
     "name": "stdout",
     "output_type": "stream",
     "text": [
      "['ATCGC']\n",
      "(1,)\n"
     ]
    }
   ],
   "source": []
  },
  {
   "cell_type": "code",
   "execution_count": 248,
   "metadata": {},
   "outputs": [],
   "source": []
  },
  {
   "cell_type": "code",
   "execution_count": null,
   "metadata": {},
   "outputs": [],
   "source": []
  },
  {
   "cell_type": "code",
   "execution_count": null,
   "metadata": {},
   "outputs": [],
   "source": []
  },
  {
   "cell_type": "code",
   "execution_count": null,
   "metadata": {},
   "outputs": [],
   "source": []
  }
 ],
 "metadata": {
  "kernelspec": {
   "display_name": "Python 3",
   "language": "python",
   "name": "python3"
  },
  "language_info": {
   "codemirror_mode": {
    "name": "ipython",
    "version": 3
   },
   "file_extension": ".py",
   "mimetype": "text/x-python",
   "name": "python",
   "nbconvert_exporter": "python",
   "pygments_lexer": "ipython3",
   "version": "3.6.9"
  }
 },
 "nbformat": 4,
 "nbformat_minor": 4
}
