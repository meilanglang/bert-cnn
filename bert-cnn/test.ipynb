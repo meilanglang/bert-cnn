{
 "cells": [
  {
   "cell_type": "code",
   "execution_count": 4,
   "metadata": {
    "scrolled": true
   },
   "outputs": [],
   "source": [
    "import matplotlib.pyplot as plt\n",
    "from sklearn import metrics\n",
    "import numpy as np\n",
    "import time\n",
    "import pickle\n",
    "import pydotplus\n",
    "from scipy import stats\n",
    "from load_test_data import load_data,load_data_one_hot\n",
    "#from load_train_data import load_data\n",
    "from model import *"
   ]
  },
  {
   "cell_type": "code",
   "execution_count": 5,
   "metadata": {},
   "outputs": [
    {
     "name": "stdout",
     "output_type": "stream",
     "text": [
      "(45080, 3000, 4) (45080, 2000, 4) (45080, 1)\n"
     ]
    }
   ],
   "source": [
    "train_data = np.load('IMR90_test.npz')\n",
    "enhancer=train_data['enhancer']\n",
    "promoter=train_data['promoter']\n",
    "label = train_data['label'].reshape(-1)\n",
    "#enhancer,promoter,label=load_data_one_hot()\n",
    "label=label.reshape(-1)\n",
    "def predict():\n",
    "    model=cnn_model()\n",
    "    model.load_weights('./model/cellline.h5')\n",
    "    #test_loss, test_acc = model.evaluate([enhancer, promoter], label)\n",
    "    score = model.predict([enhancer, promoter],verbose = 1)\n",
    "    np.set_printoptions(precision=3)\n",
    "    #f1 = metrics.f1_score(label,score)\n",
    "    #precision=metrics.precision_score(label,score)\n",
    "    #recall=metrics.recall_score(label,score)\n",
    "    precision, recall, threshold = metrics.precision_recall_curve(label, score)\n",
    "    auprc = metrics.average_precision_score(label,score)\n",
    "    auroc=metrics.roc_auc_score(label,score)\n",
    "    print(auprc,auroc)\n",
    "    return auprc,auroc\n",
    "\n",
    "predict()"
   ]
  }
 ],
 "metadata": {
  "kernelspec": {
   "display_name": "Python 3",
   "language": "python",
   "name": "python3"
  },
  "language_info": {
   "codemirror_mode": {
    "name": "ipython",
    "version": 3
   },
   "file_extension": ".py",
   "mimetype": "text/x-python",
   "name": "python",
   "nbconvert_exporter": "python",
   "pygments_lexer": "ipython3",
   "version": "3.6.9"
  }
 },
 "nbformat": 4,
 "nbformat_minor": 4
}
