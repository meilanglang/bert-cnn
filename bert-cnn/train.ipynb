{
 "cells": [
  {
   "cell_type": "code",
   "execution_count": 1,
   "metadata": {},
   "outputs": [
    {
     "name": "stderr",
     "output_type": "stream",
     "text": [
      "/usr/lib/python3/dist-packages/requests/__init__.py:80: RequestsDependencyWarning: urllib3 (1.25.10) or chardet (3.0.4) doesn't match a supported version!\n",
      "  RequestsDependencyWarning)\n"
     ]
    }
   ],
   "source": [
    "import matplotlib.pyplot as plt\n",
    "from sklearn import metrics\n",
    "from sklearn.model_selection import cross_val_score\n",
    "from sklearn.model_selection import StratifiedKFold\n",
    "from sklearn.model_selection import cross_val_score\n",
    "import numpy as np\n",
    "import time\n",
    "import pickle\n",
    "import pydotplus\n",
    "from scipy import stats\n",
    "from model import *\n",
    "from tensorflow.keras.callbacks import Callback\n",
    "from sklearn.metrics import roc_auc_score,average_precision_score,precision_score,recall_score\n",
    "from sklearn.model_selection import train_test_split\n",
    "from sklearn.model_selection import ShuffleSplit\n",
    "#tf.keras.models"
   ]
  },
  {
   "cell_type": "code",
   "execution_count": 2,
   "metadata": {},
   "outputs": [],
   "source": [
    "class roc_callback(Callback):\n",
    "    def __init__(self, val_data,name):\n",
    "        self.en = val_data[0]\n",
    "        self.pr = val_data[1]\n",
    "        self.y = val_data[2]\n",
    "        self.name = name\n",
    "\n",
    "    def on_train_begin(self, logs={}):\n",
    "        return\n",
    "\n",
    "    def on_train_end(self, logs={}):\n",
    "        return\n",
    "\n",
    "    def on_epoch_begin(self, epoch, logs={}):\n",
    "        return\n",
    "\n",
    "    def on_epoch_end(self, epoch, logs={}):\n",
    "        y_pred = self.model.predict([self.en,self.pr])\n",
    "        auc_val = roc_auc_score(self.y, y_pred)\n",
    "        aupr_val = average_precision_score(self.y, y_pred)\n",
    "        #precision=precision_score(self.y, y_pred)\n",
    "        #recall=recall_score(self.y, y_pred)\n",
    "        #self.model.save_weights(\"./modelv2/%sModel%d.h5\" % (self.name,epoch))\n",
    "        print('\\r auc_val: %s ' %str(round(auc_val, 4)), end=100 * ' ' + '\\n')\n",
    "        print('\\r aupr_val: %s ' % str(round(aupr_val, 4)), end=100 * ' ' + '\\n')\n",
    "        #print('\\r precision: %s ' %str(round(precision, 4)), end=100 * ' ' + '\\n')\n",
    "        #print('\\r recall: %s ' % str(round(recall, 4)), end=100 * ' ' + '\\n')\n",
    "        return\n",
    "\n",
    "    def on_batch_begin(self, batch, logs={}):\n",
    "        return\n",
    "\n",
    "    def on_batch_end(self, batch, logs={}):\n",
    "        return\n"
   ]
  },
  {
   "cell_type": "code",
   "execution_count": 3,
   "metadata": {},
   "outputs": [],
   "source": [
    "def train():\n",
    "    name='IMR90'\n",
    "    train_data = np.load('cellline.npz')\n",
    "    X_en_tra=train_data['enhancer']\n",
    "    X_pr_tra=train_data['promoter']\n",
    "    \n",
    "    y_tra = train_data['label'].reshape(-1)\n",
    "    #kfold = StratifiedKFold(n_splits=10, shuffle=True, random_state=7)\n",
    "    #for train, test in kfold.split(X, y)\n",
    "    X_en_tra, X_en_val,X_pr_tra,X_pr_val, y_tra, y_val=train_test_split(X_en_tra,X_pr_tra,y_tra,test_size=0.05,stratify=y_tra,random_state=250)\n",
    "    back = roc_callback(val_data=[X_en_val, X_pr_val, y_val], name=name)\n",
    "    parallel_model=cnn_model()\n",
    "    filename='./model/cellline.h5'\n",
    "    #logs='./logs/tensorboard'  \n",
    "    modelCheckpoint=tf.keras.callbacks.ModelCheckpoint(filename, \n",
    "                                                   monitor='val_loss', \n",
    "                                                   verbose=0,\n",
    "                                                   save_best_only=True, \n",
    "                                                   save_weights_only=False, \n",
    "                                                   mode='auto')\n",
    "    earlystopping=tf.keras.callbacks.EarlyStopping(monitor='val_loss',verbose=1, mode='auto')\n",
    "    tensorboard=tf.keras.callbacks.TensorBoard(log_dir=logs)\n",
    "    history = parallel_model.fit([X_en_tra,X_pr_tra],y_tra,batch_size=128,epochs=30,\n",
    "                        validation_data=([X_en_val, X_pr_val], y_val),\n",
    "                        callbacks = [back,modelCheckpoint,earlystopping,tensorboard])\n",
    "\n",
    "    cross_val_score\n",
    "    return history\n",
    "\n"
   ]
  },
  {
   "cell_type": "code",
   "execution_count": 1,
   "metadata": {
    "scrolled": false
   },
   "outputs": [
    {
     "ename": "NameError",
     "evalue": "name 'train' is not defined",
     "output_type": "error",
     "traceback": [
      "\u001b[0;31m---------------------------------------------------------------------------\u001b[0m",
      "\u001b[0;31mNameError\u001b[0m                                 Traceback (most recent call last)",
      "\u001b[0;32m<ipython-input-1-88de1eedb9a5>\u001b[0m in \u001b[0;36m<module>\u001b[0;34m\u001b[0m\n\u001b[0;32m----> 1\u001b[0;31m \u001b[0mhistory\u001b[0m\u001b[0;34m=\u001b[0m\u001b[0mtrain\u001b[0m\u001b[0;34m(\u001b[0m\u001b[0;34m)\u001b[0m\u001b[0;34m\u001b[0m\u001b[0;34m\u001b[0m\u001b[0m\n\u001b[0m\u001b[1;32m      2\u001b[0m \u001b[0mhistory_dict\u001b[0m \u001b[0;34m=\u001b[0m \u001b[0mhistory\u001b[0m\u001b[0;34m.\u001b[0m\u001b[0mhistory\u001b[0m\u001b[0;34m\u001b[0m\u001b[0;34m\u001b[0m\u001b[0m\n\u001b[1;32m      3\u001b[0m \u001b[0mprint\u001b[0m\u001b[0;34m(\u001b[0m\u001b[0mhistory_dict\u001b[0m\u001b[0;34m.\u001b[0m\u001b[0mkeys\u001b[0m\u001b[0;34m(\u001b[0m\u001b[0;34m)\u001b[0m\u001b[0;34m)\u001b[0m\u001b[0;34m\u001b[0m\u001b[0;34m\u001b[0m\u001b[0m\n\u001b[1;32m      4\u001b[0m \u001b[0mplt\u001b[0m\u001b[0;34m.\u001b[0m\u001b[0mplot\u001b[0m\u001b[0;34m(\u001b[0m\u001b[0mhistory\u001b[0m\u001b[0;34m.\u001b[0m\u001b[0mhistory\u001b[0m\u001b[0;34m[\u001b[0m\u001b[0;34m'acc'\u001b[0m\u001b[0;34m]\u001b[0m\u001b[0;34m)\u001b[0m\u001b[0;34m\u001b[0m\u001b[0;34m\u001b[0m\u001b[0m\n\u001b[1;32m      5\u001b[0m \u001b[0mplt\u001b[0m\u001b[0;34m.\u001b[0m\u001b[0mplot\u001b[0m\u001b[0;34m(\u001b[0m\u001b[0mhistory\u001b[0m\u001b[0;34m.\u001b[0m\u001b[0mhistory\u001b[0m\u001b[0;34m[\u001b[0m\u001b[0;34m'val_acc'\u001b[0m\u001b[0;34m]\u001b[0m\u001b[0;34m)\u001b[0m\u001b[0;34m\u001b[0m\u001b[0;34m\u001b[0m\u001b[0m\n",
      "\u001b[0;31mNameError\u001b[0m: name 'train' is not defined"
     ]
    }
   ],
   "source": [
    "\n",
    "history=train()\n",
    "history_dict = history.history\n",
    "print(history_dict.keys())\n",
    "plt.plot(history.history['acc'])\n",
    "plt.plot(history.history['val_acc'])\n",
    "plt.plot(history.history['loss'])\n",
    "plt.plot(history.history['val_loss'])\n",
    "plt.legend(['training_acc', 'valivation_acc','training_loss', 'valivation_loss'], loc='upper left')\n",
    "plt.show()\n"
   ]
  },
  {
   "cell_type": "code",
   "execution_count": null,
   "metadata": {},
   "outputs": [],
   "source": [
    " class Cross_validation:\n",
    "    def __init__(self,X_en_tra,X_pr_tra,y_tra,SKflod):\n",
    "        self.X_en_tra=X_en_tra\n",
    "        self.X_pr_tra=X_pr_tra\n",
    "        self.y_tra=y_tra\n",
    "        self.SKflod=SKflod  \n",
    "    def en_Cross_validation(self):\n",
    "        for en_train_index,en_val_index in self.SKflod.split(self.X_en_tra,self.y_tra): \n",
    "            en_train, en_val = self.X_en_tra[en_train_index], self.X_en_tra[en_val_index]\n",
    "            train_label,val_label=self.y_tra[en_train_index], self.y_tra[en_train_index]\n",
    "            #print(en_train,en_val,train_label,val_label)\n",
    "             yield en_train,en_val,train_label,val_label\n",
    "    def pr_Cross_validation(self):\n",
    "        for pr_train_index,pr_val_index in self.SKflod.split(X_pr_tra,y): \n",
    "            pr_train, pr_val = self.X_pr_tra[pr_train_index], self.X_pr_tra[pr_val_index]\n",
    "            train_label,val_label=self.y_tra[pr_train_index], self.y_tra[pr_val_index]\n",
    "            #print(pr_train, pr_val,train_label,val_label)\n",
    "            return pr_train, pr_val,train_label,val_label\n",
    "class InputIterable:\n",
    "    def __init__(self,Cross_validation):\n",
    "        self.Cross_validation=Cross_validation\n",
    "    def __iter__(self):\n",
    "        en_train,en_val,en_train_label,en_val_label=self.Cross_validation.en_Cross_validation()\n",
    "        pr_train, pr_val,pr_train_label,pr_val_label=self.Cross_validation.pr_Cross_validation()\n",
    "        yield en_train,en_val,pr_train, pr_val,pr_train_label,pr_val_label\n",
    "\n",
    "       \n",
    "        X_en_tra = np.array([1,2,3,11,5,6,7,12,9,20])\n",
    "        X_pr_tra = np.array([10,9,8,7,6,5,4,3,2,1])\n",
    "        y_tra = np.array([0,0,1,1,0,1,0,1,0,1])\n",
    "        SKflod=ShuffleSplit(n_splits=5, random_state=7)\n",
    "        for en_train_index,en_val_index in SKflod.split(X_en_tra,y_tra): \n",
    "            print(en_train_index)\n",
    "            print(X_en_tra)\n",
    "            en_train, en_val = X_en_tra[en_train_index],X_en_tra[en_val_index]\n",
    "            train_label,val_label=y_tra[en_train_index], y_tra[en_val_index]\n",
    "            pr_train, pr_val = X_pr_tra[en_train_index], X_pr_tra[en_val_index]\n",
    "            print(en_train,en_val,train_label,val_label)\n",
    "            print(pr_train, pr_val,train_label,val_label)\n",
    "        \n",
    "    "
   ]
  },
  {
   "cell_type": "code",
   "execution_count": null,
   "metadata": {},
   "outputs": [],
   "source": []
  }
 ],
 "metadata": {
  "kernelspec": {
   "display_name": "Python 3",
   "language": "python",
   "name": "python3"
  },
  "language_info": {
   "codemirror_mode": {
    "name": "ipython",
    "version": 3
   },
   "file_extension": ".py",
   "mimetype": "text/x-python",
   "name": "python",
   "nbconvert_exporter": "python",
   "pygments_lexer": "ipython3",
   "version": "3.6.9"
  }
 },
 "nbformat": 4,
 "nbformat_minor": 4
}
