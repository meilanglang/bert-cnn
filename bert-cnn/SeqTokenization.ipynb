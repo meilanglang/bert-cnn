{
 "cells": [
  {
   "cell_type": "code",
   "execution_count": 1,
   "metadata": {},
   "outputs": [
    {
     "name": "stderr",
     "output_type": "stream",
     "text": [
      "/usr/lib/python3/dist-packages/requests/__init__.py:80: RequestsDependencyWarning: urllib3 (1.25.10) or chardet (3.0.4) doesn't match a supported version!\n",
      "  RequestsDependencyWarning)\n"
     ]
    },
    {
     "name": "stdout",
     "output_type": "stream",
     "text": [
      "WARNING:tensorflow:From /usr/local/lib/python3.6/dist-packages/tensorflow_core/python/compat/v2_compat.py:68: disable_resource_variables (from tensorflow.python.ops.variable_scope) is deprecated and will be removed in a future version.\n",
      "Instructions for updating:\n",
      "non-resource variables are not supported in the long term\n",
      "aug_50/IMR90\n"
     ]
    }
   ],
   "source": [
    "import numpy as np\n",
    "from Bio import SeqIO\n",
    "import tables\n",
    "#from bert_serving.client import BertClient\n",
    "from ProduceKmerSequence import SeqGenerator,KmerSeqIterable,SeqMapper,SeqFragmenter,SlidingKmerFragmenter\n",
    "import tokenization \n",
    "\n",
    "\n",
    "celline = \"IMR90\"\n",
    "file_pre  = 'aug_50/'+celline\n",
    "rand_seed=7\n",
    "vocab_file='vocab.txt'\n",
    "tokenizer = tokenization.FullTokenizer(vocab_file)\n",
    "vocab_file='vocab.txt'\n",
    "tokenizer = tokenization.FullTokenizer(vocab_file)"
   ]
  },
  {
   "cell_type": "code",
   "execution_count": 3,
   "metadata": {},
   "outputs": [],
   "source": [
    "def GetEnhancerIndex(efile):\n",
    "    seq_index_e=[]\n",
    "    enhancer_sequences = SeqIO.parse(open(efile), 'fasta')\n",
    "    rng=np.random.RandomState(rand_seed)\n",
    "    kmer_fragmenter = SlidingKmerFragmenter(3, 8)\n",
    "    for enhancer in enhancer_sequences:\n",
    "        name, sequence = enhancer.id, str(enhancer.seq)\n",
    "        #print(sequence)\n",
    "        kmer_seq_iterable = KmerSeqIterable(\n",
    "        rand_seed,\n",
    "        SeqGenerator(sequence),\n",
    "        SeqMapper(),\n",
    "        SeqFragmenter(),\n",
    "        kmer_fragmenter\n",
    "    )\n",
    "        kmer_seq_list=next(kmer_seq_iterable.__iter__())\n",
    "        #print(len(kmer_seq_list))\n",
    "        kmer_seq_str=' '.join(kmer_seq_list)\n",
    "        output_tokens=tokenizer.tokenize(kmer_seq_str)\n",
    "        input_ids=tokenizer.convert_tokens_to_ids(output_tokens)\n",
    "        if len(input_ids)==2993:\n",
    "            seq_index_e.append(input_ids)\n",
    "        else:\n",
    "            print(len(input_ids),name)\n",
    "    X_e = np.array(seq_index_e)\n",
    "    print(X_e.shape)\n",
    "    return X_e\n",
    "        \n",
    "        \n",
    "def GetPromoterIndex(pfile):\n",
    "    seq_index_p=[]\n",
    "    promoter_sequences = SeqIO.parse(open(pfile), 'fasta')\n",
    "    rng=np.random.RandomState(rand_seed)\n",
    "    kmer_fragmenter = SlidingKmerFragmenter(3, 8)\n",
    "    for promoter in promoter_sequences:\n",
    "        name, sequence = promoter.id, promoter.seq\n",
    "        kmer_seq_iterable = KmerSeqIterable(\n",
    "        rand_seed,\n",
    "        SeqGenerator(sequence),\n",
    "        SeqMapper(),\n",
    "        SeqFragmenter(),\n",
    "        kmer_fragmenter\n",
    "    )\n",
    "        kmer_seq_list=next(kmer_seq_iterable.__iter__())\n",
    "        kmer_seq_str=' '.join(kmer_seq_list)\n",
    "        output_tokens=tokenizer.tokenize(kmer_seq_str)\n",
    "        input_ids=tokenizer.convert_tokens_to_ids(output_tokens)\n",
    "        #promoter_index=str(input_ids).replace(r\",\",\"\").replace(r\"[\",\"\").replace(r\"]\",\"\")\n",
    "        if len(input_ids)==1993:\n",
    "            seq_index_p.append(input_ids)\n",
    "        else:\n",
    "            print(len(input_ids),name)\n",
    "                \n",
    "    #print(seq_index_p)\n",
    "    X_p = np.array(seq_index_p)\n",
    "    print(X_p.shape)\n",
    "    \n",
    "    return X_p\n"
   ]
  },
  {
   "cell_type": "code",
   "execution_count": 4,
   "metadata": {},
   "outputs": [],
   "source": [
    "def GetTrainToken(labelfile):\n",
    "    num_pos = 0\n",
    "    num_neg = 0    \n",
    "    with open(labelfile) as f:\n",
    "        for line in f:\n",
    "            if line.rstrip() == '1':\n",
    "                num_pos = num_pos+1\n",
    "            else:\n",
    "                num_neg = num_neg+1\n",
    "    X_e=GetEnhancerIndex(efile = file_pre+'_enhancer.fasta')\n",
    "    X_p=GetPromoterIndex(pfile = file_pre+'_promoter.fasta')\n",
    "    return X_e[0:num_pos],X_e[num_pos:], X_p[0:num_pos], X_p[num_pos:]\n",
    "    #yield X_e[0:num_pos],X_e[num_pos:], X_p[0:num_pos], X_p[num_pos:],label\n",
    "\n",
    "def GetTestToken(labelfile):\n",
    "    num_pos = 0\n",
    "    num_neg = 0    \n",
    "    with open(labelfile) as f:\n",
    "        for line in f:\n",
    "            if line.rstrip() == '1':\n",
    "                num_pos = num_pos+1\n",
    "            else:\n",
    "                num_neg = num_neg+1\n",
    "    X_e=GetEnhancerIndex(efile = file_pre+'_enhancer_test.fasta')\n",
    "    X_p=GetPromoterIndex(pfile = file_pre+'_promoter_test.fasta')\n",
    "    return X_e[0:num_pos],X_e[num_pos:], X_p[0:num_pos], X_p[num_pos:]\n",
    "    #yield X_e[0:num_pos],X_e[num_pos:], X_p[0:num_pos], X_p[num_pos:],label"
   ]
  },
  {
   "cell_type": "code",
   "execution_count": 2,
   "metadata": {},
   "outputs": [
    {
     "ename": "NameError",
     "evalue": "name 'GetTrainToken' is not defined",
     "output_type": "error",
     "traceback": [
      "\u001b[0;31m---------------------------------------------------------------------------\u001b[0m",
      "\u001b[0;31mNameError\u001b[0m                                 Traceback (most recent call last)",
      "\u001b[0;32m<ipython-input-2-81ff6dc23636>\u001b[0m in \u001b[0;36m<module>\u001b[0;34m\u001b[0m\n\u001b[0;32m----> 1\u001b[0;31m \u001b[0mseq_ep\u001b[0m\u001b[0;34m,\u001b[0m\u001b[0mseq_en\u001b[0m\u001b[0;34m,\u001b[0m\u001b[0mseq_pp\u001b[0m\u001b[0;34m,\u001b[0m \u001b[0mseq_pn\u001b[0m\u001b[0;34m=\u001b[0m\u001b[0mGetTrainToken\u001b[0m\u001b[0;34m(\u001b[0m\u001b[0mlabelfile\u001b[0m \u001b[0;34m=\u001b[0m \u001b[0mfile_pre\u001b[0m\u001b[0;34m+\u001b[0m\u001b[0;34m'_label.txt'\u001b[0m\u001b[0;34m)\u001b[0m\u001b[0;34m\u001b[0m\u001b[0;34m\u001b[0m\u001b[0m\n\u001b[0m\u001b[1;32m      2\u001b[0m \u001b[0mnp\u001b[0m\u001b[0;34m.\u001b[0m\u001b[0msavez\u001b[0m\u001b[0;34m(\u001b[0m\u001b[0mcelline\u001b[0m\u001b[0;34m+\u001b[0m\u001b[0;34m'_train.npz'\u001b[0m\u001b[0;34m,\u001b[0m\u001b[0menhancer_pos\u001b[0m\u001b[0;34m=\u001b[0m\u001b[0mseq_ep\u001b[0m\u001b[0;34m,\u001b[0m\u001b[0menhancer_neg\u001b[0m\u001b[0;34m=\u001b[0m\u001b[0mseq_en\u001b[0m\u001b[0;34m,\u001b[0m\u001b[0mpromoter_pos\u001b[0m\u001b[0;34m=\u001b[0m\u001b[0mseq_pp\u001b[0m\u001b[0;34m,\u001b[0m\u001b[0mpromoter_neg\u001b[0m\u001b[0;34m=\u001b[0m\u001b[0mseq_pn\u001b[0m\u001b[0;34m)\u001b[0m\u001b[0;34m\u001b[0m\u001b[0;34m\u001b[0m\u001b[0m\n",
      "\u001b[0;31mNameError\u001b[0m: name 'GetTrainToken' is not defined"
     ]
    }
   ],
   "source": [
    "seq_ep,seq_en,seq_pp, seq_pn=GetTrainToken(labelfile = file_pre+'_label.txt')\n",
    "np.savez(celline+'_train.npz',enhancer_pos=seq_ep,enhancer_neg=seq_en,promoter_pos=seq_pp,promoter_neg=seq_pn)\n",
    "\n",
    "seq_ep,seq_en,seq_pp,seq_pn=GetTestToken(labelfile = file_pre+'_label_test.txt')\n",
    "np.savez(celline+'_test.npz',enhancer_pos=seq_ep,enhancer_neg=seq_en,promoter_pos=seq_pp,promoter_neg=seq_pn)\n"
   ]
  },
  {
   "cell_type": "code",
   "execution_count": null,
   "metadata": {},
   "outputs": [],
   "source": []
  }
 ],
 "metadata": {
  "kernelspec": {
   "display_name": "Python 3",
   "language": "python",
   "name": "python3"
  },
  "language_info": {
   "codemirror_mode": {
    "name": "ipython",
    "version": 3
   },
   "file_extension": ".py",
   "mimetype": "text/x-python",
   "name": "python",
   "nbconvert_exporter": "python",
   "pygments_lexer": "ipython3",
   "version": "3.6.9"
  }
 },
 "nbformat": 4,
 "nbformat_minor": 4
}
